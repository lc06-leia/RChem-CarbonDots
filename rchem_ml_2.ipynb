{
 "cells": [
  {
   "cell_type": "code",
   "execution_count": 2,
   "id": "df9e2e1e-c885-4c8e-97fd-42ccb6add2ef",
   "metadata": {},
   "outputs": [],
   "source": [
    "#Running this with RobustScaler and test_size = 0.2, x values will just be urea and sulfuric acid"
   ]
  },
  {
   "cell_type": "code",
   "execution_count": 3,
   "id": "3d061bb9-f352-4ea3-815e-fba01162c3f2",
   "metadata": {},
   "outputs": [],
   "source": [
    "import numpy as np\n",
    "import pandas as pd\n",
    "import matplotlib.pyplot as plt\n",
    "import seaborn as sns"
   ]
  },
  {
   "cell_type": "code",
   "execution_count": 4,
   "id": "45276b8b-c1d6-4919-8a92-4c0aadbf00bc",
   "metadata": {},
   "outputs": [
    {
     "data": {
      "text/html": [
       "<div>\n",
       "<style scoped>\n",
       "    .dataframe tbody tr th:only-of-type {\n",
       "        vertical-align: middle;\n",
       "    }\n",
       "\n",
       "    .dataframe tbody tr th {\n",
       "        vertical-align: top;\n",
       "    }\n",
       "\n",
       "    .dataframe thead th {\n",
       "        text-align: right;\n",
       "    }\n",
       "</style>\n",
       "<table border=\"1\" class=\"dataframe\">\n",
       "  <thead>\n",
       "    <tr style=\"text-align: right;\">\n",
       "      <th></th>\n",
       "      <th>Carbon Dot</th>\n",
       "      <th>Synthesis Label</th>\n",
       "      <th>6M Sulfuric Acid (mL)</th>\n",
       "      <th>Urea (grams)</th>\n",
       "      <th>Citric Acid (grams)</th>\n",
       "      <th>Positive or Negative at 365 nm excitation</th>\n",
       "      <th>Inhibition_(%)</th>\n",
       "      <th>Conductivity</th>\n",
       "      <th>OH Presence</th>\n",
       "      <th>NH Presence</th>\n",
       "      <th>SH Presence</th>\n",
       "      <th>C=O Presence</th>\n",
       "      <th>CN Presence</th>\n",
       "      <th>MaxValue (Fluorecence Ex @ 400 nm)</th>\n",
       "      <th>Emission Wavelength (Ex @ 400 nm)</th>\n",
       "    </tr>\n",
       "  </thead>\n",
       "  <tbody>\n",
       "    <tr>\n",
       "      <th>0</th>\n",
       "      <td>syn_1</td>\n",
       "      <td>B1-1</td>\n",
       "      <td>0.423</td>\n",
       "      <td>0.1271</td>\n",
       "      <td>0.1274</td>\n",
       "      <td>NaN</td>\n",
       "      <td>-6.85976</td>\n",
       "      <td>1768.0</td>\n",
       "      <td>1</td>\n",
       "      <td>1</td>\n",
       "      <td>0</td>\n",
       "      <td>1</td>\n",
       "      <td>1</td>\n",
       "      <td>0.037919</td>\n",
       "      <td>403.1</td>\n",
       "    </tr>\n",
       "    <tr>\n",
       "      <th>1</th>\n",
       "      <td>syn_2</td>\n",
       "      <td>B1-2</td>\n",
       "      <td>1.577</td>\n",
       "      <td>0.1272</td>\n",
       "      <td>0.1274</td>\n",
       "      <td>NaN</td>\n",
       "      <td>-15.09150</td>\n",
       "      <td>3917.0</td>\n",
       "      <td>1</td>\n",
       "      <td>1</td>\n",
       "      <td>1</td>\n",
       "      <td>1</td>\n",
       "      <td>1</td>\n",
       "      <td>0.009542</td>\n",
       "      <td>483.1</td>\n",
       "    </tr>\n",
       "    <tr>\n",
       "      <th>2</th>\n",
       "      <td>syn_3</td>\n",
       "      <td>B1-3</td>\n",
       "      <td>0.423</td>\n",
       "      <td>0.4728</td>\n",
       "      <td>0.1271</td>\n",
       "      <td>Both</td>\n",
       "      <td>-14.02440</td>\n",
       "      <td>667.0</td>\n",
       "      <td>1</td>\n",
       "      <td>1</td>\n",
       "      <td>1</td>\n",
       "      <td>1</td>\n",
       "      <td>1</td>\n",
       "      <td>0.028918</td>\n",
       "      <td>506.7</td>\n",
       "    </tr>\n",
       "    <tr>\n",
       "      <th>3</th>\n",
       "      <td>syn_4</td>\n",
       "      <td>B1-4</td>\n",
       "      <td>1.577</td>\n",
       "      <td>0.4732</td>\n",
       "      <td>0.1273</td>\n",
       "      <td>NaN</td>\n",
       "      <td>-8.84146</td>\n",
       "      <td>2645.0</td>\n",
       "      <td>1</td>\n",
       "      <td>1</td>\n",
       "      <td>0</td>\n",
       "      <td>1</td>\n",
       "      <td>1</td>\n",
       "      <td>0.012842</td>\n",
       "      <td>401.1</td>\n",
       "    </tr>\n",
       "    <tr>\n",
       "      <th>4</th>\n",
       "      <td>syn_5</td>\n",
       "      <td>B1-5</td>\n",
       "      <td>0.423</td>\n",
       "      <td>0.1273</td>\n",
       "      <td>0.4734</td>\n",
       "      <td>NaN</td>\n",
       "      <td>-17.98780</td>\n",
       "      <td>971.0</td>\n",
       "      <td>1</td>\n",
       "      <td>1</td>\n",
       "      <td>1</td>\n",
       "      <td>1</td>\n",
       "      <td>1</td>\n",
       "      <td>0.010605</td>\n",
       "      <td>401.1</td>\n",
       "    </tr>\n",
       "  </tbody>\n",
       "</table>\n",
       "</div>"
      ],
      "text/plain": [
       "  Carbon Dot Synthesis Label  6M Sulfuric Acid (mL)  Urea (grams)  \\\n",
       "0      syn_1            B1-1                  0.423        0.1271   \n",
       "1      syn_2            B1-2                  1.577        0.1272   \n",
       "2      syn_3            B1-3                  0.423        0.4728   \n",
       "3      syn_4            B1-4                  1.577        0.4732   \n",
       "4      syn_5            B1-5                  0.423        0.1273   \n",
       "\n",
       "   Citric Acid (grams) Positive or Negative at 365 nm excitation  \\\n",
       "0               0.1274                                       NaN   \n",
       "1               0.1274                                       NaN   \n",
       "2               0.1271                                      Both   \n",
       "3               0.1273                                       NaN   \n",
       "4               0.4734                                       NaN   \n",
       "\n",
       "   Inhibition_(%)  Conductivity  OH Presence  NH Presence  SH Presence  \\\n",
       "0        -6.85976        1768.0            1            1            0   \n",
       "1       -15.09150        3917.0            1            1            1   \n",
       "2       -14.02440         667.0            1            1            1   \n",
       "3        -8.84146        2645.0            1            1            0   \n",
       "4       -17.98780         971.0            1            1            1   \n",
       "\n",
       "   C=O Presence  CN Presence  MaxValue (Fluorecence Ex @ 400 nm)  \\\n",
       "0             1            1                            0.037919   \n",
       "1             1            1                            0.009542   \n",
       "2             1            1                            0.028918   \n",
       "3             1            1                            0.012842   \n",
       "4             1            1                            0.010605   \n",
       "\n",
       "   Emission Wavelength (Ex @ 400 nm)  \n",
       "0                              403.1  \n",
       "1                              483.1  \n",
       "2                              506.7  \n",
       "3                              401.1  \n",
       "4                              401.1  "
      ]
     },
     "execution_count": 4,
     "metadata": {},
     "output_type": "execute_result"
    }
   ],
   "source": [
    "df = pd.read_csv(r\"carbon_dot_ml_data - Data.csv\")\n",
    "\n",
    "df.head(5)"
   ]
  },
  {
   "cell_type": "code",
   "execution_count": 5,
   "id": "a7671022-b051-4f55-830c-5f6bb96e1cb7",
   "metadata": {},
   "outputs": [],
   "source": [
    "x = df[['Urea (grams)', '6M Sulfuric Acid (mL)']].values\n",
    "\n",
    "y = df['Emission Wavelength (Ex @ 400 nm)'].values"
   ]
  },
  {
   "cell_type": "code",
   "execution_count": 6,
   "id": "bc1d1bc5-772d-4d18-bbf8-29551a37001a",
   "metadata": {},
   "outputs": [],
   "source": [
    "from sklearn.model_selection import train_test_split\n",
    "from sklearn.preprocessing import StandardScaler, QuantileTransformer, RobustScaler\n",
    "from sklearn.metrics import mean_squared_error, r2_score, root_mean_squared_error, mean_absolute_error"
   ]
  },
  {
   "cell_type": "code",
   "execution_count": 7,
   "id": "8ac3c0b8-a385-4d31-8768-2901a1136781",
   "metadata": {},
   "outputs": [],
   "source": [
    "def split(rs, size):\n",
    "    x_train, x_test, y_train, y_test = train_test_split(x, y, test_size = size, random_state = rs)\n",
    "    return x_train, x_test, y_train, y_test"
   ]
  },
  {
   "cell_type": "code",
   "execution_count": 8,
   "id": "add95b88-fbbe-4064-bacc-73dcf2d10db0",
   "metadata": {},
   "outputs": [],
   "source": [
    "def scale(x_train, x_test, y_train):\n",
    "    xscaler = StandardScaler()\n",
    "    yscaler = StandardScaler()\n",
    "    \n",
    "    x_train = xscaler.fit_transform(x_train)\n",
    "    x_test = xscaler.transform(x_test)\n",
    "\n",
    "    y_train = yscaler.fit_transform(y_train.reshape(-1,1))\n",
    "    return x_train, x_test, y_train, yscaler"
   ]
  },
  {
   "cell_type": "code",
   "execution_count": 9,
   "id": "8898d6eb-c6e7-4d7d-ad47-fb84ea53439b",
   "metadata": {},
   "outputs": [],
   "source": [
    "from sklearn.svm import SVR\n",
    "from sklearn.ensemble import GradientBoostingRegressor\n",
    "from sklearn.ensemble import RandomForestRegressor\n",
    "from sklearn import tree\n",
    "from sklearn import linear_model\n",
    "from sklearn.neighbors import KNeighborsRegressor"
   ]
  },
  {
   "cell_type": "code",
   "execution_count": 10,
   "id": "8fd831f1-4984-44b2-8f01-a4f205c213ce",
   "metadata": {},
   "outputs": [],
   "source": [
    "def model_learning(alg, x_train, x_test, y_train, y_test, yscaler):\n",
    "    if alg == 'SVR':\n",
    "        model = SVR(kernel = 'rbf')\n",
    "    elif alg == 'Gradient Boosting':\n",
    "        model = GradientBoostingRegressor()\n",
    "    elif alg == 'Random Forest':\n",
    "        model = RandomForestRegressor(max_depth =5)\n",
    "    elif alg == 'Decision Tree':\n",
    "        model = tree.DecisionTreeRegressor()\n",
    "    elif alg == 'LASSO':\n",
    "        model = linear_model.Lasso(alpha = 0.1)\n",
    "    elif alg == 'Ridge':\n",
    "        model = linear_model.Ridge(alpha = 0.1)\n",
    "    elif alg == 'Elastic':\n",
    "        model = linear_model.ElasticNet()\n",
    "    elif alg == 'KNN':\n",
    "        model = KNeighborsRegressor(n_neighbors = 5)\n",
    "    else: \n",
    "        model = linear_model.LinearRegression()\n",
    "    model.fit(x_train, y_train)\n",
    "    y_pred = model.predict(x_test)\n",
    "    y_pred = y_pred.reshape(-1,1)\n",
    "    y_pred = yscaler.inverse_transform(y_pred)\n",
    "    train_score = model.score(x_train, y_train)\n",
    "    test_score = model.score(x_test, y_test)\n",
    "    mse = mean_squared_error(y_test, y_pred)\n",
    "    r2 = r2_score(y_test, y_pred)\n",
    "    rmse = root_mean_squared_error(y_test, y_pred)\n",
    "    mae = mean_absolute_error(y_test,y_pred)\n",
    "    y_pred2 = model.predict(x_train)\n",
    "    y_pred2 = y_pred2.reshape(-1,1)\n",
    "    y_pred2 = yscaler.inverse_transform(y_pred2)\n",
    "    mae_train = mean_absolute_error(y_train, y_pred2)\n",
    "    return y_pred, train_score, test_score, mse, r2, rmse,mae, mae_train"
   ]
  },
  {
   "cell_type": "code",
   "execution_count": 11,
   "id": "3bf2675f-837c-4579-ac67-6904f42ebb3b",
   "metadata": {
    "scrolled": true
   },
   "outputs": [
    {
     "name": "stderr",
     "output_type": "stream",
     "text": [
      "C:\\Users\\laira\\anaconda3\\Lib\\site-packages\\sklearn\\utils\\validation.py:1339: DataConversionWarning: A column-vector y was passed when a 1d array was expected. Please change the shape of y to (n_samples, ), for example using ravel().\n",
      "  y = column_or_1d(y, warn=True)\n",
      "C:\\Users\\laira\\anaconda3\\Lib\\site-packages\\sklearn\\ensemble\\_gb.py:668: DataConversionWarning: A column-vector y was passed when a 1d array was expected. Please change the shape of y to (n_samples, ), for example using ravel().\n",
      "  y = column_or_1d(y, warn=True)  # TODO: Is this still required?\n",
      "C:\\Users\\laira\\anaconda3\\Lib\\site-packages\\sklearn\\base.py:1473: DataConversionWarning: A column-vector y was passed when a 1d array was expected. Please change the shape of y to (n_samples,), for example using ravel().\n",
      "  return fit_method(estimator, *args, **kwargs)\n"
     ]
    }
   ],
   "source": [
    "#Loop to make a list of runs with 100 different random states\n",
    "\n",
    "models = np.array([])\n",
    "#random_state = np.array([])\n",
    "train_scores = np.array([])\n",
    "test_scores = np.array([])\n",
    "mse_scores = np.array([])\n",
    "r2_scores = np.array([])\n",
    "rmse_scores = np.array([])\n",
    "mae_scores = np.array([])\n",
    "mae_trains = np.array([])\n",
    "\n",
    "for model in np.array(['SVR', 'Gradient Boosting', 'Random Forest', 'Decision Tree', 'LASSO', 'Ridge', 'Elastic', 'KNN','Linear Regression']):\n",
    "        x_train, x_test, y_train, y_test = split(1, 0.2)\n",
    "        x_train, x_test, y_train, yscaler = scale(x_train, x_test, y_train)\n",
    "        models = np.append(models, model)\n",
    "        y_pred, train_score, test_score, mse, r2, rmse, mae, mae_train = model_learning(model, x_train, x_test, y_train, y_test, yscaler)\n",
    "        train_scores = np.append(train_scores, train_score)\n",
    "        test_scores = np.append(test_scores, test_score)\n",
    "        mse_scores = np.append(mse_scores, mse)\n",
    "        r2_scores = np.append(r2_scores, r2)\n",
    "        rmse_scores = np.append(rmse_scores, rmse)\n",
    "        mae_scores = np.append(mae_scores, mae)\n",
    "        mae_trains = np.append(mae_trains, mae_train)\n",
    "        \n"
   ]
  },
  {
   "cell_type": "code",
   "execution_count": 12,
   "id": "3f6c3eb6-1188-4453-a5ee-92e83eaf303b",
   "metadata": {
    "scrolled": true
   },
   "outputs": [
    {
     "data": {
      "text/plain": [
       "array([16.76678953, 25.95865494, 13.12169398, 26.1       , 34.86916098,\n",
       "       30.95607361, 46.02777778, 20.62666667, 30.89997125])"
      ]
     },
     "execution_count": 12,
     "metadata": {},
     "output_type": "execute_result"
    }
   ],
   "source": [
    "mae_scores"
   ]
  },
  {
   "cell_type": "code",
   "execution_count": 13,
   "id": "b44cd4d6-e9fe-49cd-af64-ddfeb919b61d",
   "metadata": {},
   "outputs": [
    {
     "data": {
      "text/html": [
       "<div>\n",
       "<style scoped>\n",
       "    .dataframe tbody tr th:only-of-type {\n",
       "        vertical-align: middle;\n",
       "    }\n",
       "\n",
       "    .dataframe tbody tr th {\n",
       "        vertical-align: top;\n",
       "    }\n",
       "\n",
       "    .dataframe thead th {\n",
       "        text-align: right;\n",
       "    }\n",
       "</style>\n",
       "<table border=\"1\" class=\"dataframe\">\n",
       "  <thead>\n",
       "    <tr style=\"text-align: right;\">\n",
       "      <th></th>\n",
       "      <th>Algorithm</th>\n",
       "      <th>Train Scores</th>\n",
       "      <th>MSE</th>\n",
       "      <th>R2</th>\n",
       "      <th>RMSE</th>\n",
       "      <th>MAE</th>\n",
       "      <th>MAE Train</th>\n",
       "    </tr>\n",
       "  </thead>\n",
       "  <tbody>\n",
       "    <tr>\n",
       "      <th>0</th>\n",
       "      <td>SVR</td>\n",
       "      <td>0.770172</td>\n",
       "      <td>622.822679</td>\n",
       "      <td>0.751348</td>\n",
       "      <td>24.956416</td>\n",
       "      <td>16.766790</td>\n",
       "      <td>427.579311</td>\n",
       "    </tr>\n",
       "    <tr>\n",
       "      <th>1</th>\n",
       "      <td>Gradient Boosting</td>\n",
       "      <td>0.999859</td>\n",
       "      <td>1927.014580</td>\n",
       "      <td>0.230670</td>\n",
       "      <td>43.897774</td>\n",
       "      <td>25.958655</td>\n",
       "      <td>436.333333</td>\n",
       "    </tr>\n",
       "    <tr>\n",
       "      <th>2</th>\n",
       "      <td>Random Forest</td>\n",
       "      <td>0.859115</td>\n",
       "      <td>464.256116</td>\n",
       "      <td>0.814653</td>\n",
       "      <td>21.546603</td>\n",
       "      <td>13.121694</td>\n",
       "      <td>436.946517</td>\n",
       "    </tr>\n",
       "    <tr>\n",
       "      <th>3</th>\n",
       "      <td>Decision Tree</td>\n",
       "      <td>0.999872</td>\n",
       "      <td>3338.062500</td>\n",
       "      <td>-0.332668</td>\n",
       "      <td>57.775968</td>\n",
       "      <td>26.100000</td>\n",
       "      <td>436.333333</td>\n",
       "    </tr>\n",
       "    <tr>\n",
       "      <th>4</th>\n",
       "      <td>LASSO</td>\n",
       "      <td>0.222989</td>\n",
       "      <td>1489.598552</td>\n",
       "      <td>0.405301</td>\n",
       "      <td>38.595318</td>\n",
       "      <td>34.869161</td>\n",
       "      <td>436.333333</td>\n",
       "    </tr>\n",
       "    <tr>\n",
       "      <th>5</th>\n",
       "      <td>Ridge</td>\n",
       "      <td>0.240668</td>\n",
       "      <td>1232.467550</td>\n",
       "      <td>0.507957</td>\n",
       "      <td>35.106517</td>\n",
       "      <td>30.956074</td>\n",
       "      <td>436.333333</td>\n",
       "    </tr>\n",
       "    <tr>\n",
       "      <th>6</th>\n",
       "      <td>Elastic</td>\n",
       "      <td>0.000000</td>\n",
       "      <td>2508.469444</td>\n",
       "      <td>-0.001467</td>\n",
       "      <td>50.084623</td>\n",
       "      <td>46.027778</td>\n",
       "      <td>436.333333</td>\n",
       "    </tr>\n",
       "    <tr>\n",
       "      <th>7</th>\n",
       "      <td>KNN</td>\n",
       "      <td>0.600798</td>\n",
       "      <td>908.088000</td>\n",
       "      <td>0.637460</td>\n",
       "      <td>30.134499</td>\n",
       "      <td>20.626667</td>\n",
       "      <td>443.135833</td>\n",
       "    </tr>\n",
       "    <tr>\n",
       "      <th>8</th>\n",
       "      <td>Linear Regression</td>\n",
       "      <td>0.240671</td>\n",
       "      <td>1229.489698</td>\n",
       "      <td>0.509146</td>\n",
       "      <td>35.064080</td>\n",
       "      <td>30.899971</td>\n",
       "      <td>436.333333</td>\n",
       "    </tr>\n",
       "  </tbody>\n",
       "</table>\n",
       "</div>"
      ],
      "text/plain": [
       "           Algorithm  Train Scores          MSE        R2       RMSE  \\\n",
       "0                SVR      0.770172   622.822679  0.751348  24.956416   \n",
       "1  Gradient Boosting      0.999859  1927.014580  0.230670  43.897774   \n",
       "2      Random Forest      0.859115   464.256116  0.814653  21.546603   \n",
       "3      Decision Tree      0.999872  3338.062500 -0.332668  57.775968   \n",
       "4              LASSO      0.222989  1489.598552  0.405301  38.595318   \n",
       "5              Ridge      0.240668  1232.467550  0.507957  35.106517   \n",
       "6            Elastic      0.000000  2508.469444 -0.001467  50.084623   \n",
       "7                KNN      0.600798   908.088000  0.637460  30.134499   \n",
       "8  Linear Regression      0.240671  1229.489698  0.509146  35.064080   \n",
       "\n",
       "         MAE   MAE Train  \n",
       "0  16.766790  427.579311  \n",
       "1  25.958655  436.333333  \n",
       "2  13.121694  436.946517  \n",
       "3  26.100000  436.333333  \n",
       "4  34.869161  436.333333  \n",
       "5  30.956074  436.333333  \n",
       "6  46.027778  436.333333  \n",
       "7  20.626667  443.135833  \n",
       "8  30.899971  436.333333  "
      ]
     },
     "execution_count": 13,
     "metadata": {},
     "output_type": "execute_result"
    }
   ],
   "source": [
    "df = pd.DataFrame()\n",
    "\n",
    "df['Algorithm'] = models\n",
    "#df['Random State'] = random_state\n",
    "df['Train Scores'] = train_scores\n",
    "#df['Test Scores'] = test_scores\n",
    "df['MSE'] = mse_scores\n",
    "df['R2'] = r2_scores\n",
    "df['RMSE'] = rmse_scores\n",
    "df['MAE'] = mae_scores\n",
    "df['MAE Train'] = mae_trains\n",
    "\n",
    "df"
   ]
  },
  {
   "cell_type": "code",
   "execution_count": 14,
   "id": "c829bde9-c703-4311-a05e-4cf64e35cb04",
   "metadata": {},
   "outputs": [],
   "source": [
    "#df.to_csv('model_comparisons.csv')"
   ]
  },
  {
   "cell_type": "code",
   "execution_count": 15,
   "id": "1a332147-9fca-4929-9b45-8200e6cb084e",
   "metadata": {},
   "outputs": [
    {
     "data": {
      "text/plain": [
       "2"
      ]
     },
     "execution_count": 15,
     "metadata": {},
     "output_type": "execute_result"
    }
   ],
   "source": [
    "df['RMSE'].idxmin()"
   ]
  },
  {
   "cell_type": "code",
   "execution_count": 16,
   "id": "14b22fa2-4d81-4a61-89e1-79b0a6c46ac3",
   "metadata": {},
   "outputs": [
    {
     "data": {
      "text/plain": [
       "Algorithm       Random Forest\n",
       "Train Scores         0.859115\n",
       "MSE                464.256116\n",
       "R2                   0.814653\n",
       "RMSE                21.546603\n",
       "MAE                 13.121694\n",
       "MAE Train          436.946517\n",
       "Name: 2, dtype: object"
      ]
     },
     "execution_count": 16,
     "metadata": {},
     "output_type": "execute_result"
    }
   ],
   "source": [
    "df.iloc[2]"
   ]
  },
  {
   "cell_type": "code",
   "execution_count": 17,
   "id": "b0c10cc4-a6fa-4207-8944-4ec82a831aad",
   "metadata": {},
   "outputs": [],
   "source": [
    "#grouped = df.groupby(['Algorithm']).mean()"
   ]
  },
  {
   "cell_type": "code",
   "execution_count": 18,
   "id": "b3d3016e-c19e-40dd-933e-09a376d4830a",
   "metadata": {},
   "outputs": [],
   "source": [
    "#grouped"
   ]
  },
  {
   "cell_type": "code",
   "execution_count": 19,
   "id": "ee2c2fd9-ec9b-408d-906f-26e91b6f683b",
   "metadata": {},
   "outputs": [],
   "source": [
    "#sorted = df.sort_values('RMSE', ascending = True)"
   ]
  },
  {
   "cell_type": "code",
   "execution_count": 20,
   "id": "1475cbf3-24ae-49ec-9aeb-860b7b9a01ae",
   "metadata": {},
   "outputs": [],
   "source": [
    "#sorted.to_csv('sorted_rchem_ml_2.csv')"
   ]
  },
  {
   "cell_type": "code",
   "execution_count": 52,
   "id": "cb609dd7-7522-4bdb-be6d-28e4c05d8226",
   "metadata": {},
   "outputs": [],
   "source": [
    "#Running just one algorithm and graphing the result\n",
    "\n",
    "\n",
    "def graph_model(model, random_state):\n",
    "    x_train, x_test, y_train, y_test = split(random_state, 0.2)\n",
    "    x_train, x_test, y_train, yscaler = scale(x_train, x_test, y_train)\n",
    "    y_pred, train_score, test_score, mse, r2, rmse, mae, mae_train = model_learning(model, x_train, x_test, y_train, y_test, yscaler)\n",
    "    plt.scatter(y_test, y_pred, color = 'cornflowerblue')\n",
    "    plt.xlabel('Observed Wavelength (nm)')\n",
    "    plt.ylabel('Predicted Wavelength (nm)')\n",
    "    plt.title('Observed vs. Predicted Wavelength (nm) ' + model + ' Model')\n",
    "    plt.show()\n",
    "    "
   ]
  },
  {
   "cell_type": "code",
   "execution_count": 54,
   "id": "1a1955a6-948d-4ad4-bf12-b2d5ab812cec",
   "metadata": {},
   "outputs": [
    {
     "name": "stderr",
     "output_type": "stream",
     "text": [
      "C:\\Users\\laira\\anaconda3\\Lib\\site-packages\\sklearn\\base.py:1473: DataConversionWarning: A column-vector y was passed when a 1d array was expected. Please change the shape of y to (n_samples,), for example using ravel().\n",
      "  return fit_method(estimator, *args, **kwargs)\n"
     ]
    },
    {
     "data": {
      "image/png": "[encoded data removed]",
      "text/plain": [
       "<Figure size 640x480 with 1 Axes>"
      ]
     },
     "metadata": {},
     "output_type": "display_data"
    }
   ],
   "source": [
    "graph_model('Random Forest', 1)"
   ]
  },
  {
   "cell_type": "code",
   "execution_count": null,
   "id": "a32aefea-5540-40ec-987d-e89a4019c95e",
   "metadata": {},
   "outputs": [],
   "source": []
  }
 ],
 "metadata": {
  "kernelspec": {
   "display_name": "Python [conda env:base] *",
   "language": "python",
   "name": "conda-base-py"
  },
  "language_info": {
   "codemirror_mode": {
    "name": "ipython",
    "version": 3
   },
   "file_extension": ".py",
   "mimetype": "text/x-python",
   "name": "python",
   "nbconvert_exporter": "python",
   "pygments_lexer": "ipython3",
   "version": "3.12.3"
  }
 },
 "nbformat": 4,
 "nbformat_minor": 5
}
