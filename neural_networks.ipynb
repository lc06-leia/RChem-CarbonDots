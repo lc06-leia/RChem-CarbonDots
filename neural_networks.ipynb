{
 "cells": [
  {
   "cell_type": "code",
   "execution_count": 1,
   "id": "639310b8-6fde-4435-bae1-7e7407297bfa",
   "metadata": {},
   "outputs": [],
   "source": [
    "import numpy as np\n",
    "import pandas as pd\n",
    "import matplotlib.pyplot as plt\n",
    "import seaborn as sns"
   ]
  },
  {
   "cell_type": "code",
   "execution_count": 2,
   "id": "81719bf3-02b0-4be1-84f3-4a3da230aefe",
   "metadata": {},
   "outputs": [
    {
     "data": {
      "text/html": [
       "<div>\n",
       "<style scoped>\n",
       "    .dataframe tbody tr th:only-of-type {\n",
       "        vertical-align: middle;\n",
       "    }\n",
       "\n",
       "    .dataframe tbody tr th {\n",
       "        vertical-align: top;\n",
       "    }\n",
       "\n",
       "    .dataframe thead th {\n",
       "        text-align: right;\n",
       "    }\n",
       "</style>\n",
       "<table border=\"1\" class=\"dataframe\">\n",
       "  <thead>\n",
       "    <tr style=\"text-align: right;\">\n",
       "      <th></th>\n",
       "      <th>Carbon Dot</th>\n",
       "      <th>Synthesis Label</th>\n",
       "      <th>6M Sulfuric Acid (mL)</th>\n",
       "      <th>Urea (grams)</th>\n",
       "      <th>Citric Acid (grams)</th>\n",
       "      <th>Positive or Negative at 365 nm excitation</th>\n",
       "      <th>Inhibition_(%)</th>\n",
       "      <th>Conductivity</th>\n",
       "      <th>OH Presence</th>\n",
       "      <th>NH Presence</th>\n",
       "      <th>SH Presence</th>\n",
       "      <th>C=O Presence</th>\n",
       "      <th>CN Presence</th>\n",
       "      <th>MaxValue (Fluorecence Ex @ 400 nm)</th>\n",
       "      <th>Emission Wavelength (Ex @ 400 nm)</th>\n",
       "    </tr>\n",
       "  </thead>\n",
       "  <tbody>\n",
       "    <tr>\n",
       "      <th>0</th>\n",
       "      <td>syn_1</td>\n",
       "      <td>B1-1</td>\n",
       "      <td>0.423</td>\n",
       "      <td>0.1271</td>\n",
       "      <td>0.1274</td>\n",
       "      <td>NaN</td>\n",
       "      <td>-6.85976</td>\n",
       "      <td>1768.0</td>\n",
       "      <td>1</td>\n",
       "      <td>1</td>\n",
       "      <td>0</td>\n",
       "      <td>1</td>\n",
       "      <td>1</td>\n",
       "      <td>0.037919</td>\n",
       "      <td>403.1</td>\n",
       "    </tr>\n",
       "    <tr>\n",
       "      <th>1</th>\n",
       "      <td>syn_2</td>\n",
       "      <td>B1-2</td>\n",
       "      <td>1.577</td>\n",
       "      <td>0.1272</td>\n",
       "      <td>0.1274</td>\n",
       "      <td>NaN</td>\n",
       "      <td>-15.09150</td>\n",
       "      <td>3917.0</td>\n",
       "      <td>1</td>\n",
       "      <td>1</td>\n",
       "      <td>1</td>\n",
       "      <td>1</td>\n",
       "      <td>1</td>\n",
       "      <td>0.009542</td>\n",
       "      <td>483.1</td>\n",
       "    </tr>\n",
       "    <tr>\n",
       "      <th>2</th>\n",
       "      <td>syn_3</td>\n",
       "      <td>B1-3</td>\n",
       "      <td>0.423</td>\n",
       "      <td>0.4728</td>\n",
       "      <td>0.1271</td>\n",
       "      <td>Both</td>\n",
       "      <td>-14.02440</td>\n",
       "      <td>667.0</td>\n",
       "      <td>1</td>\n",
       "      <td>1</td>\n",
       "      <td>1</td>\n",
       "      <td>1</td>\n",
       "      <td>1</td>\n",
       "      <td>0.028918</td>\n",
       "      <td>506.7</td>\n",
       "    </tr>\n",
       "    <tr>\n",
       "      <th>3</th>\n",
       "      <td>syn_4</td>\n",
       "      <td>B1-4</td>\n",
       "      <td>1.577</td>\n",
       "      <td>0.4732</td>\n",
       "      <td>0.1273</td>\n",
       "      <td>NaN</td>\n",
       "      <td>-8.84146</td>\n",
       "      <td>2645.0</td>\n",
       "      <td>1</td>\n",
       "      <td>1</td>\n",
       "      <td>0</td>\n",
       "      <td>1</td>\n",
       "      <td>1</td>\n",
       "      <td>0.012842</td>\n",
       "      <td>401.1</td>\n",
       "    </tr>\n",
       "    <tr>\n",
       "      <th>4</th>\n",
       "      <td>syn_5</td>\n",
       "      <td>B1-5</td>\n",
       "      <td>0.423</td>\n",
       "      <td>0.1273</td>\n",
       "      <td>0.4734</td>\n",
       "      <td>NaN</td>\n",
       "      <td>-17.98780</td>\n",
       "      <td>971.0</td>\n",
       "      <td>1</td>\n",
       "      <td>1</td>\n",
       "      <td>1</td>\n",
       "      <td>1</td>\n",
       "      <td>1</td>\n",
       "      <td>0.010605</td>\n",
       "      <td>401.1</td>\n",
       "    </tr>\n",
       "  </tbody>\n",
       "</table>\n",
       "</div>"
      ],
      "text/plain": [
       "  Carbon Dot Synthesis Label  6M Sulfuric Acid (mL)  Urea (grams)  \\\n",
       "0      syn_1            B1-1                  0.423        0.1271   \n",
       "1      syn_2            B1-2                  1.577        0.1272   \n",
       "2      syn_3            B1-3                  0.423        0.4728   \n",
       "3      syn_4            B1-4                  1.577        0.4732   \n",
       "4      syn_5            B1-5                  0.423        0.1273   \n",
       "\n",
       "   Citric Acid (grams) Positive or Negative at 365 nm excitation  \\\n",
       "0               0.1274                                       NaN   \n",
       "1               0.1274                                       NaN   \n",
       "2               0.1271                                      Both   \n",
       "3               0.1273                                       NaN   \n",
       "4               0.4734                                       NaN   \n",
       "\n",
       "   Inhibition_(%)  Conductivity  OH Presence  NH Presence  SH Presence  \\\n",
       "0        -6.85976        1768.0            1            1            0   \n",
       "1       -15.09150        3917.0            1            1            1   \n",
       "2       -14.02440         667.0            1            1            1   \n",
       "3        -8.84146        2645.0            1            1            0   \n",
       "4       -17.98780         971.0            1            1            1   \n",
       "\n",
       "   C=O Presence  CN Presence  MaxValue (Fluorecence Ex @ 400 nm)  \\\n",
       "0             1            1                            0.037919   \n",
       "1             1            1                            0.009542   \n",
       "2             1            1                            0.028918   \n",
       "3             1            1                            0.012842   \n",
       "4             1            1                            0.010605   \n",
       "\n",
       "   Emission Wavelength (Ex @ 400 nm)  \n",
       "0                              403.1  \n",
       "1                              483.1  \n",
       "2                              506.7  \n",
       "3                              401.1  \n",
       "4                              401.1  "
      ]
     },
     "execution_count": 2,
     "metadata": {},
     "output_type": "execute_result"
    }
   ],
   "source": [
    "df = pd.read_csv(r\"C:\\Users\\laira\\OneDrive\\Documents\\RChem\\machine_learning\\carbon_dot_ml_data - Data.csv\")\n",
    "\n",
    "df.head(5)"
   ]
  },
  {
   "cell_type": "code",
   "execution_count": 3,
   "id": "721cdae9-e863-4efc-82eb-36c8d87bc11d",
   "metadata": {},
   "outputs": [
    {
     "data": {
      "text/html": [
       "<div>\n",
       "<style scoped>\n",
       "    .dataframe tbody tr th:only-of-type {\n",
       "        vertical-align: middle;\n",
       "    }\n",
       "\n",
       "    .dataframe tbody tr th {\n",
       "        vertical-align: top;\n",
       "    }\n",
       "\n",
       "    .dataframe thead th {\n",
       "        text-align: right;\n",
       "    }\n",
       "</style>\n",
       "<table border=\"1\" class=\"dataframe\">\n",
       "  <thead>\n",
       "    <tr style=\"text-align: right;\">\n",
       "      <th></th>\n",
       "      <th>Carbon Dot</th>\n",
       "      <th>Synthesis Label</th>\n",
       "      <th>6M Sulfuric Acid (mL)</th>\n",
       "      <th>Urea (grams)</th>\n",
       "      <th>Citric Acid (grams)</th>\n",
       "      <th>Positive or Negative at 365 nm excitation</th>\n",
       "      <th>Inhibition_(%)</th>\n",
       "      <th>Conductivity</th>\n",
       "      <th>OH Presence</th>\n",
       "      <th>NH Presence</th>\n",
       "      <th>SH Presence</th>\n",
       "      <th>C=O Presence</th>\n",
       "      <th>CN Presence</th>\n",
       "      <th>MaxValue (Fluorecence Ex @ 400 nm)</th>\n",
       "      <th>Emission Wavelength (Ex @ 400 nm)</th>\n",
       "    </tr>\n",
       "  </thead>\n",
       "  <tbody>\n",
       "    <tr>\n",
       "      <th>0</th>\n",
       "      <td>syn_1</td>\n",
       "      <td>B1-1</td>\n",
       "      <td>0.423</td>\n",
       "      <td>0.1271</td>\n",
       "      <td>0.1274</td>\n",
       "      <td>NaN</td>\n",
       "      <td>-6.85976</td>\n",
       "      <td>1768.0</td>\n",
       "      <td>1</td>\n",
       "      <td>1</td>\n",
       "      <td>0</td>\n",
       "      <td>1</td>\n",
       "      <td>1</td>\n",
       "      <td>0.037919</td>\n",
       "      <td>403.1</td>\n",
       "    </tr>\n",
       "    <tr>\n",
       "      <th>1</th>\n",
       "      <td>syn_2</td>\n",
       "      <td>B1-2</td>\n",
       "      <td>1.577</td>\n",
       "      <td>0.1272</td>\n",
       "      <td>0.1274</td>\n",
       "      <td>NaN</td>\n",
       "      <td>-15.09150</td>\n",
       "      <td>3917.0</td>\n",
       "      <td>1</td>\n",
       "      <td>1</td>\n",
       "      <td>1</td>\n",
       "      <td>1</td>\n",
       "      <td>1</td>\n",
       "      <td>0.009542</td>\n",
       "      <td>483.1</td>\n",
       "    </tr>\n",
       "    <tr>\n",
       "      <th>2</th>\n",
       "      <td>syn_3</td>\n",
       "      <td>B1-3</td>\n",
       "      <td>0.423</td>\n",
       "      <td>0.4728</td>\n",
       "      <td>0.1271</td>\n",
       "      <td>Both</td>\n",
       "      <td>-14.02440</td>\n",
       "      <td>667.0</td>\n",
       "      <td>1</td>\n",
       "      <td>1</td>\n",
       "      <td>1</td>\n",
       "      <td>1</td>\n",
       "      <td>1</td>\n",
       "      <td>0.028918</td>\n",
       "      <td>506.7</td>\n",
       "    </tr>\n",
       "    <tr>\n",
       "      <th>3</th>\n",
       "      <td>syn_4</td>\n",
       "      <td>B1-4</td>\n",
       "      <td>1.577</td>\n",
       "      <td>0.4732</td>\n",
       "      <td>0.1273</td>\n",
       "      <td>NaN</td>\n",
       "      <td>-8.84146</td>\n",
       "      <td>2645.0</td>\n",
       "      <td>1</td>\n",
       "      <td>1</td>\n",
       "      <td>0</td>\n",
       "      <td>1</td>\n",
       "      <td>1</td>\n",
       "      <td>0.012842</td>\n",
       "      <td>401.1</td>\n",
       "    </tr>\n",
       "    <tr>\n",
       "      <th>4</th>\n",
       "      <td>syn_5</td>\n",
       "      <td>B1-5</td>\n",
       "      <td>0.423</td>\n",
       "      <td>0.1273</td>\n",
       "      <td>0.4734</td>\n",
       "      <td>NaN</td>\n",
       "      <td>-17.98780</td>\n",
       "      <td>971.0</td>\n",
       "      <td>1</td>\n",
       "      <td>1</td>\n",
       "      <td>1</td>\n",
       "      <td>1</td>\n",
       "      <td>1</td>\n",
       "      <td>0.010605</td>\n",
       "      <td>401.1</td>\n",
       "    </tr>\n",
       "  </tbody>\n",
       "</table>\n",
       "</div>"
      ],
      "text/plain": [
       "  Carbon Dot Synthesis Label  6M Sulfuric Acid (mL)  Urea (grams)  \\\n",
       "0      syn_1            B1-1                  0.423        0.1271   \n",
       "1      syn_2            B1-2                  1.577        0.1272   \n",
       "2      syn_3            B1-3                  0.423        0.4728   \n",
       "3      syn_4            B1-4                  1.577        0.4732   \n",
       "4      syn_5            B1-5                  0.423        0.1273   \n",
       "\n",
       "   Citric Acid (grams) Positive or Negative at 365 nm excitation  \\\n",
       "0               0.1274                                       NaN   \n",
       "1               0.1274                                       NaN   \n",
       "2               0.1271                                      Both   \n",
       "3               0.1273                                       NaN   \n",
       "4               0.4734                                       NaN   \n",
       "\n",
       "   Inhibition_(%)  Conductivity  OH Presence  NH Presence  SH Presence  \\\n",
       "0        -6.85976        1768.0            1            1            0   \n",
       "1       -15.09150        3917.0            1            1            1   \n",
       "2       -14.02440         667.0            1            1            1   \n",
       "3        -8.84146        2645.0            1            1            0   \n",
       "4       -17.98780         971.0            1            1            1   \n",
       "\n",
       "   C=O Presence  CN Presence  MaxValue (Fluorecence Ex @ 400 nm)  \\\n",
       "0             1            1                            0.037919   \n",
       "1             1            1                            0.009542   \n",
       "2             1            1                            0.028918   \n",
       "3             1            1                            0.012842   \n",
       "4             1            1                            0.010605   \n",
       "\n",
       "   Emission Wavelength (Ex @ 400 nm)  \n",
       "0                              403.1  \n",
       "1                              483.1  \n",
       "2                              506.7  \n",
       "3                              401.1  \n",
       "4                              401.1  "
      ]
     },
     "execution_count": 3,
     "metadata": {},
     "output_type": "execute_result"
    }
   ],
   "source": [
    "df = pd.read_csv(r\"C:\\Users\\laira\\OneDrive\\Documents\\RChem\\machine_learning\\carbon_dot_ml_data - Data.csv\")\n",
    "\n",
    "df.head(5)"
   ]
  },
  {
   "cell_type": "code",
   "execution_count": 7,
   "id": "8c93e8db",
   "metadata": {},
   "outputs": [
    {
     "data": {
      "text/plain": [
       "26"
      ]
     },
     "execution_count": 7,
     "metadata": {},
     "output_type": "execute_result"
    }
   ],
   "source": [
    "df['Emission Wavelength (Ex @ 400 nm)'].idxmax()"
   ]
  },
  {
   "cell_type": "code",
   "execution_count": 8,
   "id": "a4b6c339",
   "metadata": {},
   "outputs": [
    {
     "data": {
      "text/plain": [
       "Carbon Dot                                     syn_27\n",
       "Synthesis Label                                  ML-5\n",
       "6M Sulfuric Acid (mL)                             0.0\n",
       "Urea (grams)                                   0.6002\n",
       "Citric Acid (grams)                            0.6004\n",
       "Positive or Negative at 365 nm excitation        Both\n",
       "Inhibition_(%)                               8.231707\n",
       "Conductivity                                    196.0\n",
       "OH Presence                                         1\n",
       "NH Presence                                         1\n",
       "SH Presence                                         0\n",
       "C=O Presence                                        1\n",
       "CN Presence                                         1\n",
       "MaxValue (Fluorecence Ex @ 400 nm)           0.002463\n",
       "Emission Wavelength (Ex @ 400 nm)               636.5\n",
       "Name: 26, dtype: object"
      ]
     },
     "execution_count": 8,
     "metadata": {},
     "output_type": "execute_result"
    }
   ],
   "source": [
    "df.iloc[26]"
   ]
  },
  {
   "cell_type": "code",
   "execution_count": 12,
   "id": "77b87501",
   "metadata": {},
   "outputs": [
    {
     "data": {
      "image/png": "[encoded data removed]",
      "text/plain": [
       "<Figure size 640x480 with 1 Axes>"
      ]
     },
     "metadata": {},
     "output_type": "display_data"
    }
   ],
   "source": [
    "#from mpl_toolkits import mplot3d\n",
    "\n",
    "\n",
    "fig = plt.figure()\n",
    "ax = plt.axes(projection = '3d')\n",
    "\n",
    "y = df['6M Sulfuric Acid (mL)']\n",
    "x = df['Urea (grams)']\n",
    "z = df['Inhibition_(%)']\n",
    "c = x + y\n",
    "\n",
    "ax.scatter(x, y, z, c = c)\n",
    "\n",
    "plt.show()"
   ]
  },
  {
   "cell_type": "code",
   "execution_count": 14,
   "id": "25f8211c",
   "metadata": {},
   "outputs": [
    {
     "data": {
      "text/plain": [
       "[]"
      ]
     },
     "execution_count": 14,
     "metadata": {},
     "output_type": "execute_result"
    },
    {
     "data": {
      "image/png": "[encoded data removed]",
      "text/plain": [
       "<Figure size 640x480 with 1 Axes>"
      ]
     },
     "metadata": {},
     "output_type": "display_data"
    }
   ],
   "source": [
    "plt.scatter(df['6M Sulfuric Acid (mL)'], df['Emission Wavelength (Ex @ 400 nm)'])\n",
    "plt.plot()"
   ]
  },
  {
   "cell_type": "code",
   "execution_count": 15,
   "id": "3a438cf3-4c17-4ac5-a2cf-41bec27a0ed3",
   "metadata": {},
   "outputs": [],
   "source": [
    "x = df[['Urea (grams)', '6M Sulfuric Acid (mL)']].values\n",
    "\n",
    "y = df['Emission Wavelength (Ex @ 400 nm)'].values"
   ]
  },
  {
   "cell_type": "code",
   "execution_count": 16,
   "id": "98b92305-482b-46a7-8db1-6c49286d6d7d",
   "metadata": {},
   "outputs": [
    {
     "ename": "ModuleNotFoundError",
     "evalue": "No module named 'sklearn'",
     "output_type": "error",
     "traceback": [
      "\u001b[1;31m---------------------------------------------------------------------------\u001b[0m",
      "\u001b[1;31mModuleNotFoundError\u001b[0m                       Traceback (most recent call last)",
      "\u001b[1;32m~\\AppData\\Local\\Temp\\ipykernel_14132\\4275128581.py\u001b[0m in \u001b[0;36m<module>\u001b[1;34m\u001b[0m\n\u001b[1;32m----> 1\u001b[1;33m \u001b[1;32mfrom\u001b[0m \u001b[0msklearn\u001b[0m\u001b[1;33m.\u001b[0m\u001b[0mmodel_selection\u001b[0m \u001b[1;32mimport\u001b[0m \u001b[0mtrain_test_split\u001b[0m\u001b[1;33m\u001b[0m\u001b[1;33m\u001b[0m\u001b[0m\n\u001b[0m\u001b[0;32m      2\u001b[0m \u001b[1;32mfrom\u001b[0m \u001b[0msklearn\u001b[0m\u001b[1;33m.\u001b[0m\u001b[0mpreprocessing\u001b[0m \u001b[1;32mimport\u001b[0m \u001b[0mStandardScaler\u001b[0m\u001b[1;33m,\u001b[0m \u001b[0mQuantileTransformer\u001b[0m\u001b[1;33m,\u001b[0m \u001b[0mRobustScaler\u001b[0m\u001b[1;33m\u001b[0m\u001b[1;33m\u001b[0m\u001b[0m\n\u001b[0;32m      3\u001b[0m \u001b[1;33m\u001b[0m\u001b[0m\n\u001b[0;32m      4\u001b[0m \u001b[0mx_train\u001b[0m\u001b[1;33m,\u001b[0m \u001b[0mx_test\u001b[0m\u001b[1;33m,\u001b[0m \u001b[0my_train\u001b[0m\u001b[1;33m,\u001b[0m \u001b[0my_test\u001b[0m \u001b[1;33m=\u001b[0m \u001b[0mtrain_test_split\u001b[0m\u001b[1;33m(\u001b[0m\u001b[0mx\u001b[0m\u001b[1;33m,\u001b[0m \u001b[0my\u001b[0m\u001b[1;33m,\u001b[0m \u001b[0mtest_size\u001b[0m \u001b[1;33m=\u001b[0m \u001b[1;36m0.2\u001b[0m\u001b[1;33m,\u001b[0m \u001b[0mrandom_state\u001b[0m \u001b[1;33m=\u001b[0m \u001b[1;36m60\u001b[0m\u001b[1;33m)\u001b[0m\u001b[1;33m\u001b[0m\u001b[1;33m\u001b[0m\u001b[0m\n\u001b[0;32m      5\u001b[0m \u001b[1;33m\u001b[0m\u001b[0m\n",
      "\u001b[1;31mModuleNotFoundError\u001b[0m: No module named 'sklearn'"
     ]
    }
   ],
   "source": [
    "from sklearn.model_selection import train_test_split\n",
    "from sklearn.preprocessing import StandardScaler, QuantileTransformer, RobustScaler\n",
    "\n",
    "x_train, x_test, y_train, y_test = train_test_split(x, y, test_size = 0.2, random_state = 60)\n",
    "\n",
    "xscaler = RobustScaler()\n",
    "yscaler = RobustScaler()\n",
    "    \n",
    "x_train = xscaler.fit_transform(x_train)\n",
    "x_test = xscaler.transform(x_test)\n",
    "\n",
    "y_train = yscaler.fit_transform(y_train.reshape(-1,1))\n",
    "\n",
    "from sklearn.neural_network import MLPRegressor\n",
    "\n",
    "model = MLPRegressor(activation  = 'relu', batch_size = 6, random_state = 1, max_iter = 500)\n",
    "\n",
    "model.fit(x_train, y_train)\n"
   ]
  },
  {
   "cell_type": "code",
   "execution_count": 7,
   "id": "ac2eefa4-fcef-40b0-8a4e-d662ec110fa5",
   "metadata": {},
   "outputs": [
    {
     "data": {
      "text/plain": [
       "-90.638143141217"
      ]
     },
     "execution_count": 7,
     "metadata": {},
     "output_type": "execute_result"
    }
   ],
   "source": [
    "model.score(x_test, y_test)"
   ]
  },
  {
   "cell_type": "code",
   "execution_count": 8,
   "id": "5b92b8e7-7281-46ff-ac4f-9b701ded4e21",
   "metadata": {},
   "outputs": [
    {
     "data": {
      "text/plain": [
       "0.8688804497802465"
      ]
     },
     "execution_count": 8,
     "metadata": {},
     "output_type": "execute_result"
    }
   ],
   "source": [
    "model.score(x_train, y_train)"
   ]
  },
  {
   "cell_type": "code",
   "execution_count": 9,
   "id": "69cdea2b-494d-4d98-8f8b-3189f69d25c1",
   "metadata": {},
   "outputs": [],
   "source": [
    "y_pred = model.predict(x_test)\n",
    "\n",
    "y_pred = y_pred.reshape(-1,1)\n",
    "y_pred = yscaler.inverse_transform(y_pred)"
   ]
  },
  {
   "cell_type": "code",
   "execution_count": 10,
   "id": "5715a6e5-73f3-4bf5-9187-33d1da64cce3",
   "metadata": {},
   "outputs": [
    {
     "data": {
      "image/png": "[encoded data removed]",
      "text/plain": [
       "<Figure size 640x480 with 1 Axes>"
      ]
     },
     "metadata": {},
     "output_type": "display_data"
    }
   ],
   "source": [
    "plt.scatter(y_test, y_pred, color = 'cornflowerblue')\n",
    "plt.show()"
   ]
  },
  {
   "cell_type": "code",
   "execution_count": 11,
   "id": "9f25bc4c-4bc8-4d4d-b93f-8d65927fd92b",
   "metadata": {},
   "outputs": [],
   "source": [
    "from sklearn.metrics import mean_squared_error, r2_score, root_mean_squared_error, mean_absolute_error"
   ]
  },
  {
   "cell_type": "code",
   "execution_count": 12,
   "id": "91924745-b08c-4f69-aae7-7429b9803cf4",
   "metadata": {},
   "outputs": [
    {
     "data": {
      "text/plain": [
       "0.9324580329551322"
      ]
     },
     "execution_count": 12,
     "metadata": {},
     "output_type": "execute_result"
    }
   ],
   "source": [
    "r2_score(y_test, y_pred)"
   ]
  },
  {
   "cell_type": "code",
   "execution_count": 13,
   "id": "41626b67-3302-43c6-b691-8ab34d1a453a",
   "metadata": {},
   "outputs": [
    {
     "data": {
      "text/plain": [
       "11.513117716479362"
      ]
     },
     "execution_count": 13,
     "metadata": {},
     "output_type": "execute_result"
    }
   ],
   "source": [
    "root_mean_squared_error(y_test, y_pred)"
   ]
  },
  {
   "cell_type": "code",
   "execution_count": null,
   "id": "abe6525c-5c57-4284-9f65-fd34a08f46ea",
   "metadata": {},
   "outputs": [],
   "source": []
  }
 ],
 "metadata": {
  "kernelspec": {
   "display_name": "tensorflow",
   "language": "python",
   "name": "python3"
  },
  "language_info": {
   "codemirror_mode": {
    "name": "ipython",
    "version": 3
   },
   "file_extension": ".py",
   "mimetype": "text/x-python",
   "name": "python",
   "nbconvert_exporter": "python",
   "pygments_lexer": "ipython3",
   "version": "3.7.12"
  }
 },
 "nbformat": 4,
 "nbformat_minor": 5
}
